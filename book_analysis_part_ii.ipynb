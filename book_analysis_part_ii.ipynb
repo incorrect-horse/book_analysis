{
 "cells": [
  {
   "cell_type": "markdown",
   "id": "79d213d3-091b-4ec2-949c-f9211efe6519",
   "metadata": {},
   "source": [
    "# **BOOK ANALYSIS - Part II**"
   ]
  },
  {
   "cell_type": "markdown",
   "id": "aa813ddc-a997-4220-8ef5-eff2417b86f6",
   "metadata": {},
   "source": [
    "## **Load the book**"
   ]
  },
  {
   "cell_type": "code",
   "execution_count": 1,
   "id": "efd4b49d-d078-4ecf-b04e-b65272087ba4",
   "metadata": {},
   "outputs": [],
   "source": [
    "with open(\"miracle_in_the_andes.txt\", \"r\", encoding=\"utf-8\") as file:\n",
    "    book = file.read()"
   ]
  },
  {
   "cell_type": "markdown",
   "id": "684bdbd2-45d2-4558-84f9-cddaf1bc8895",
   "metadata": {},
   "source": [
    "## **Most used words (non-article)**"
   ]
  },
  {
   "cell_type": "code",
   "execution_count": 2,
   "id": "bbde9300-9330-4fc7-b4e6-44eeddc76ed2",
   "metadata": {},
   "outputs": [
    {
     "data": {
      "text/plain": [
       "['chapter', 'before', 'it', 'was', 'friday']"
      ]
     },
     "execution_count": 2,
     "metadata": {},
     "output_type": "execute_result"
    }
   ],
   "source": [
    "import re\n",
    "pattern = re.compile(\"[a-zA-Z]+\")\n",
    "findings = re.findall(pattern, book.lower())\n",
    "len(findings)\n",
    "findings[:5]"
   ]
  },
  {
   "cell_type": "code",
   "execution_count": 3,
   "id": "61be39b2-3d28-4e0b-b41a-87cb58e50221",
   "metadata": {},
   "outputs": [],
   "source": [
    "d = {}\n",
    "for word in findings:\n",
    "    if word in d.keys():\n",
    "        d[word] += 1\n",
    "    else:\n",
    "        d[word] = 1"
   ]
  },
  {
   "cell_type": "code",
   "execution_count": 4,
   "id": "ac3db36a-e557-4e09-a7fe-df06ad9f00c0",
   "metadata": {},
   "outputs": [
    {
     "data": {
      "text/plain": [
       "[(5346, 'the'), (2795, 'and'), (2729, 'i'), (2400, 'to'), (2060, 'of')]"
      ]
     },
     "execution_count": 4,
     "metadata": {},
     "output_type": "execute_result"
    }
   ],
   "source": [
    "d_list = [(value, key) for (key, value) in d.items()]\n",
    "d_list = sorted(d_list, reverse=True)\n",
    "d_list[:5]"
   ]
  },
  {
   "cell_type": "markdown",
   "id": "96b01be8-c718-47b2-8927-067e460c9cd6",
   "metadata": {},
   "source": [
    "### import natural language processing module"
   ]
  },
  {
   "cell_type": "code",
   "execution_count": 5,
   "id": "9ffb35db-4797-4aa2-b628-5cbf9b5a10a0",
   "metadata": {},
   "outputs": [],
   "source": [
    "import nltk\n",
    "\n",
    "from nltk.corpus import stopwords\n",
    "english_stopwords = stopwords.words(\"english\")"
   ]
  },
  {
   "cell_type": "code",
   "execution_count": 6,
   "id": "c4301589-56f9-4edd-b519-b5d291826fdb",
   "metadata": {},
   "outputs": [
    {
     "data": {
      "text/plain": [
       "['i', 'me', 'my', 'myself', 'we', 'our', 'ours', 'ourselves', 'you', \"you're\"]"
      ]
     },
     "execution_count": 6,
     "metadata": {},
     "output_type": "execute_result"
    }
   ],
   "source": [
    "english_stopwords[:10]"
   ]
  },
  {
   "cell_type": "code",
   "execution_count": 7,
   "id": "d8771bc8-b0f9-4907-84e7-f37ce4063020",
   "metadata": {},
   "outputs": [],
   "source": [
    "filtered_list = []\n",
    "for count, word in d_list:\n",
    "    if word not in english_stopwords:\n",
    "        filtered_list.append((word, count))"
   ]
  },
  {
   "cell_type": "code",
   "execution_count": 8,
   "id": "72e27ffe-f8e3-4438-875b-c7c174ab9a02",
   "metadata": {},
   "outputs": [
    {
     "data": {
      "text/plain": [
       "[('would', 575),\n",
       " ('us', 519),\n",
       " ('said', 292),\n",
       " ('roberto', 284),\n",
       " ('could', 252),\n",
       " ('one', 249),\n",
       " ('snow', 227),\n",
       " ('mountain', 183),\n",
       " ('time', 182),\n",
       " ('like', 165),\n",
       " ('way', 164),\n",
       " ('life', 161),\n",
       " ('knew', 155),\n",
       " ('mountains', 147),\n",
       " ('fuselage', 140),\n",
       " ('still', 137),\n",
       " ('felt', 127),\n",
       " ('father', 127),\n",
       " ('others', 126),\n",
       " ('found', 126)]"
      ]
     },
     "execution_count": 8,
     "metadata": {},
     "output_type": "execute_result"
    }
   ],
   "source": [
    "filtered_list[:20]"
   ]
  },
  {
   "cell_type": "markdown",
   "id": "412672d2-e71f-4d0c-817c-ebe1d905a8c8",
   "metadata": {
    "tags": []
   },
   "source": [
    "## **Sentiment Analysis: Most positive and negative chapters**"
   ]
  },
  {
   "cell_type": "code",
   "execution_count": 9,
   "id": "679420af-4724-43a0-9cda-cfc5fc5bf8c0",
   "metadata": {},
   "outputs": [],
   "source": [
    "from nltk.sentiment import SentimentIntensityAnalyzer"
   ]
  },
  {
   "cell_type": "code",
   "execution_count": 10,
   "id": "3d952800-1fb1-4b57-a170-05aea821486d",
   "metadata": {},
   "outputs": [],
   "source": [
    "analyzer = SentimentIntensityAnalyzer()"
   ]
  },
  {
   "cell_type": "markdown",
   "id": "8e082d73-5556-4fc3-b0f4-0f640115c687",
   "metadata": {},
   "source": [
    "### Example"
   ]
  },
  {
   "cell_type": "code",
   "execution_count": 11,
   "id": "1f7b7cee-c274-4166-9cdc-3d4e8d1d1f83",
   "metadata": {},
   "outputs": [],
   "source": [
    "scores = analyzer.polarity_scores(\"cheese is disgusting and makes me want to vomit\")"
   ]
  },
  {
   "cell_type": "code",
   "execution_count": 12,
   "id": "aa645ad6-007b-4c00-aabb-e6ca827fe0b9",
   "metadata": {},
   "outputs": [
    {
     "name": "stdout",
     "output_type": "stream",
     "text": [
      "This is negative\n"
     ]
    }
   ],
   "source": [
    "if scores[\"pos\"] > scores[\"neg\"]:\n",
    "    print(\"This is positive\")\n",
    "else:\n",
    "    print(\"This is negative\")"
   ]
  },
  {
   "cell_type": "code",
   "execution_count": 13,
   "id": "62f335d2-0d14-4a0a-a548-6bc41f0d74e5",
   "metadata": {},
   "outputs": [
    {
     "data": {
      "text/plain": [
       "{'neg': 0.116, 'neu': 0.76, 'pos': 0.125, 'compound': 1.0}"
      ]
     },
     "execution_count": 13,
     "metadata": {},
     "output_type": "execute_result"
    }
   ],
   "source": [
    "analyzer.polarity_scores(book)"
   ]
  },
  {
   "cell_type": "markdown",
   "id": "a2fa805e-7250-4dcb-a30a-2ae2f90dff06",
   "metadata": {},
   "source": [
    "### Chapter analysis"
   ]
  },
  {
   "cell_type": "code",
   "execution_count": 14,
   "id": "ff424050-2b2e-4c7a-b788-6e5321b8e5d8",
   "metadata": {},
   "outputs": [],
   "source": [
    "import re\n",
    "pattern = re.compile(\"Chapter [0-9]+\")\n",
    "chapters = re.split(pattern, book)"
   ]
  },
  {
   "cell_type": "code",
   "execution_count": 15,
   "id": "f53aea65-c44f-4453-b544-7b76d4b28c02",
   "metadata": {},
   "outputs": [],
   "source": [
    "chapters = chapters[1:]"
   ]
  },
  {
   "cell_type": "code",
   "execution_count": 16,
   "id": "394aee66-123a-407a-8dcc-262b838899c8",
   "metadata": {},
   "outputs": [
    {
     "name": "stdout",
     "output_type": "stream",
     "text": [
      "1 {'neg': 0.061, 'neu': 0.779, 'pos': 0.16, 'compound': 1.0}\n",
      "2 {'neg': 0.12, 'neu': 0.726, 'pos': 0.154, 'compound': 0.9991}\n",
      "3 {'neg': 0.145, 'neu': 0.751, 'pos': 0.105, 'compound': -0.9999}\n",
      "4 {'neg': 0.141, 'neu': 0.721, 'pos': 0.138, 'compound': -0.9963}\n",
      "5 {'neg': 0.118, 'neu': 0.742, 'pos': 0.141, 'compound': 0.9997}\n",
      "6 {'neg': 0.124, 'neu': 0.761, 'pos': 0.115, 'compound': -0.9979}\n",
      "7 {'neg': 0.136, 'neu': 0.761, 'pos': 0.103, 'compound': -0.9999}\n",
      "8 {'neg': 0.12, 'neu': 0.786, 'pos': 0.094, 'compound': -0.9998}\n",
      "9 {'neg': 0.097, 'neu': 0.824, 'pos': 0.079, 'compound': -0.9996}\n",
      "10 {'neg': 0.086, 'neu': 0.733, 'pos': 0.181, 'compound': 1.0}\n"
     ]
    }
   ],
   "source": [
    "for nr, chapter in enumerate(chapters):\n",
    "    scores = analyzer.polarity_scores(chapter)\n",
    "    print(nr + 1, scores)"
   ]
  }
 ],
 "metadata": {
  "kernelspec": {
   "display_name": "Python 3 (ipykernel)",
   "language": "python",
   "name": "python3"
  },
  "language_info": {
   "codemirror_mode": {
    "name": "ipython",
    "version": 3
   },
   "file_extension": ".py",
   "mimetype": "text/x-python",
   "name": "python",
   "nbconvert_exporter": "python",
   "pygments_lexer": "ipython3",
   "version": "3.10.8"
  }
 },
 "nbformat": 4,
 "nbformat_minor": 5
}
