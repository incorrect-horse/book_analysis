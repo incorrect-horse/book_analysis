{
 "cells": [
  {
   "cell_type": "markdown",
   "id": "dc4e0b4e-7c32-4092-a9f9-f3194d6ee80e",
   "metadata": {
    "tags": []
   },
   "source": [
    "# **BOOK ANALYSIS - Part I**"
   ]
  },
  {
   "cell_type": "markdown",
   "id": "8d14b516-b9e5-43a7-a3bb-4f511d8d5214",
   "metadata": {
    "tags": []
   },
   "source": [
    "## **Load the book**"
   ]
  },
  {
   "cell_type": "code",
   "execution_count": 1,
   "id": "5d470ef5-0b1a-46ca-ab58-e5567d5118e3",
   "metadata": {},
   "outputs": [],
   "source": [
    "with open(\"miracle_in_the_andes.txt\", \"r\", encoding=\"utf-8\") as file:\n",
    "    book = file.read()"
   ]
  },
  {
   "cell_type": "markdown",
   "id": "20d62def-a24b-40d4-8bed-41850dd43e57",
   "metadata": {
    "tags": []
   },
   "source": [
    "## **Count chapters**"
   ]
  },
  {
   "cell_type": "markdown",
   "id": "c0ee15f3-126e-4aa6-98ab-97eff9631aa0",
   "metadata": {
    "tags": []
   },
   "source": [
    "## with string methods"
   ]
  },
  {
   "cell_type": "code",
   "execution_count": 2,
   "id": "f1cffd77-6a80-41ca-863e-50ff7ba7f0a7",
   "metadata": {},
   "outputs": [
    {
     "data": {
      "text/plain": [
       "11"
      ]
     },
     "execution_count": 2,
     "metadata": {},
     "output_type": "execute_result"
    }
   ],
   "source": [
    "book.count(\"Chapter\")"
   ]
  },
  {
   "cell_type": "markdown",
   "id": "fe6b2e45-4138-451c-ade9-5f1f1ba69e72",
   "metadata": {
    "tags": []
   },
   "source": [
    "## with regex"
   ]
  },
  {
   "cell_type": "code",
   "execution_count": 3,
   "id": "d9c214f1-c22c-4b59-a97a-4ead9f5fd350",
   "metadata": {},
   "outputs": [],
   "source": [
    "import re"
   ]
  },
  {
   "cell_type": "code",
   "execution_count": 4,
   "id": "6db7a2d0-da21-4b3c-b4c9-1e6a406af350",
   "metadata": {},
   "outputs": [
    {
     "data": {
      "text/plain": [
       "10"
      ]
     },
     "execution_count": 4,
     "metadata": {},
     "output_type": "execute_result"
    }
   ],
   "source": [
    "pattern = re.compile(\"Chapter [0-9]+\")\n",
    "findings = re.findall(pattern, book)\n",
    "len(findings)"
   ]
  },
  {
   "cell_type": "markdown",
   "id": "b55f44d3-4704-4564-85ea-ebd2dd56062e",
   "metadata": {
    "tags": []
   },
   "source": [
    "## **Sentences with the word \"love\"**"
   ]
  },
  {
   "cell_type": "code",
   "execution_count": 5,
   "id": "3556df20-3a49-4ee3-8a7a-ae194847f987",
   "metadata": {},
   "outputs": [
    {
     "data": {
      "text/plain": [
       "['As a young man, of course, I could not put these things into words, but I knew, and my teammates knew, that there was something special about the game, and under the guidance of the Christian Brothers we developed a passionate love for the sport that shaped our friendships and our lives.',\n",
       " 'Guido and I grew up together, playing soccer and sharing a love of motorcycles, cars, and auto racing.',\n",
       " 'Under the guidance of the Christian Brothers, both of us grew to love the game of rugby with a consuming passion.',\n",
       " 'That rowdiness came to an abrupt end for Guido in 1969, when he met and fell in love with the beautiful daughter of a Chilean diplomat.',\n",
       " 'I believe he had a great hunger for the love and comforts of a family that was happy and whole.']"
      ]
     },
     "execution_count": 5,
     "metadata": {},
     "output_type": "execute_result"
    }
   ],
   "source": [
    "pattern = re.compile(\"[A-Z]{1}[^.]*[^a-zA-Z]love[^a-zA-Z]+[^.]*.\")\n",
    "findings = re.findall(pattern, book)\n",
    "len(findings)\n",
    "findings[:5]"
   ]
  },
  {
   "cell_type": "markdown",
   "id": "b6a71d5e-9c76-4ced-9558-3dcc8cb9097c",
   "metadata": {
    "tags": []
   },
   "source": [
    "## **Most used words**"
   ]
  },
  {
   "cell_type": "code",
   "execution_count": 6,
   "id": "a7a59d5c-e91c-420b-9b6c-a05ad1e9f80c",
   "metadata": {},
   "outputs": [
    {
     "data": {
      "text/plain": [
       "['chapter', 'before', 'it', 'was', 'friday']"
      ]
     },
     "execution_count": 6,
     "metadata": {},
     "output_type": "execute_result"
    }
   ],
   "source": [
    "pattern = re.compile(\"[a-zA-Z]+\")\n",
    "findings = re.findall(pattern, book.lower())\n",
    "len(findings)\n",
    "findings[:5]"
   ]
  },
  {
   "cell_type": "code",
   "execution_count": 7,
   "id": "faa09bb0-ebcd-4aef-bf16-5f03dc4f3c6b",
   "metadata": {},
   "outputs": [],
   "source": [
    "d = {}\n",
    "for word in findings:\n",
    "    if word in d.keys():\n",
    "        d[word] += 1\n",
    "    else:\n",
    "        d[word] = 1"
   ]
  },
  {
   "cell_type": "code",
   "execution_count": 8,
   "id": "029ea6f8-5bf4-479c-a871-bbc80fe079de",
   "metadata": {},
   "outputs": [
    {
     "data": {
      "text/plain": [
       "[(5346, 'the'),\n",
       " (2795, 'and'),\n",
       " (2729, 'i'),\n",
       " (2400, 'to'),\n",
       " (2060, 'of'),\n",
       " (1566, 'a'),\n",
       " (1430, 'was'),\n",
       " (1419, 'in'),\n",
       " (1226, 'we'),\n",
       " (1169, 'my')]"
      ]
     },
     "execution_count": 8,
     "metadata": {},
     "output_type": "execute_result"
    }
   ],
   "source": [
    "d_list = [(value, key) for (key, value) in d.items()]\n",
    "sorted(d_list, reverse=True)[:10]"
   ]
  },
  {
   "cell_type": "markdown",
   "id": "abb8fdc0-acd0-461b-a9e6-d94731c8a999",
   "metadata": {
    "tags": []
   },
   "source": [
    "# **EXERCISES**"
   ]
  },
  {
   "cell_type": "markdown",
   "id": "2ce7baa6-fd9a-4fd8-8887-32b9da8889b7",
   "metadata": {
    "tags": []
   },
   "source": [
    "## **Load the book**"
   ]
  },
  {
   "cell_type": "code",
   "execution_count": 9,
   "id": "e90e1099-8fc8-47ce-9e26-d5dd2c125a85",
   "metadata": {},
   "outputs": [],
   "source": [
    "with open(\"miracle_in_the_andes.txt\", \"r\", encoding=\"utf-8\") as file:\n",
    "    book = file.read()"
   ]
  },
  {
   "cell_type": "markdown",
   "id": "751d6bc3-124c-47ad-8286-97f44f600a02",
   "metadata": {
    "tags": []
   },
   "source": [
    "## **Paragraphs containing the word \"love\"**"
   ]
  },
  {
   "cell_type": "code",
   "execution_count": 10,
   "id": "425293d4-f544-4128-942c-30d0e1a86cb5",
   "metadata": {},
   "outputs": [],
   "source": [
    "import re"
   ]
  },
  {
   "cell_type": "code",
   "execution_count": 11,
   "id": "e758b421-230b-4301-b3a0-2333769ae465",
   "metadata": {},
   "outputs": [
    {
     "data": {
      "text/plain": [
       "['To me, this is the essence of rugby. No other sport gives you such an intense sense of selflessness and unified purpose. I believe this is why rugby players all over the world feel such a passion for the game and such a feeling of brotherhood. As a young man, of course, I could not put these things into words, but I knew, and my teammates knew, that there was something special about the game, and under the guidance of the Christian Brothers we developed a passionate love for the sport that shaped our friendships and our lives. For eight years we played our hearts out for the Christian Brothers—a brotherhood of young boys with Latin names, playing a game with deep Anglo roots under Uruguay’s sunny skies, and proudly wearing the bright green shamrock on our uniforms. The game became so much a part of our lives, in fact, that when we graduated from Stella Maris at the age of sixteen, many of us could not bear the thought that our playing days were over. Our salvation came in the form of the Old Christians Club, a private rugby team formed in 1965 by previous alumni of the Stella Maris rugby program to give Stella Maris ruggers a chance to continue playing the game after our school years ended.',\n",
       " 'There were others—Alexis Hounie, Gastón Costemalle, Daniel Shaw—all of them great players and all of them my friends. But my oldest friend was Guido Magri. He and I had met on my first day at the Stella Maris School—I was eight years old and Guido was one year older—and we had been inseparable ever since. Guido and I grew up together, playing soccer and sharing a love of motorcycles, cars, and auto racing. When I was fifteen we both had mopeds that we had modified in silly ways—removing the mufflers, turn signals, and fenders—and we would ride them to Las Delicias, a famous ice cream parlor in our neighborhood, where we would drool over the girls from the nearby School Sagrado Corazón, hoping to impress them with our souped-up scooters. Guido was a dependable friend, with a good sense of humor and an easy laugh. He was also an outstanding scrum half, as quick and smart as a fox, with good hands and great courage. Under the guidance of the Christian Brothers, both of us grew to love the game of rugby with a consuming passion. As seasons passed we worked hard to improve our skills, and by the time I was fifteen we had each earned a spot on the Stella Maris First XV, the team’s starting lineup. After graduation, both of us went on to join the Old Christians and spent several happy seasons pursuing the high-octane social life of young rugby players. That rowdiness came to an abrupt end for Guido in 1969, when he met and fell in love with the beautiful daughter of a Chilean diplomat. She was now his fiancée, and he was happy to behave himself for her sake.']"
      ]
     },
     "execution_count": 11,
     "metadata": {},
     "output_type": "execute_result"
    }
   ],
   "source": [
    "pattern = re.compile(r\"[^\\n]+love[^\\n]+\")\n",
    "findings = re.findall(pattern, book)\n",
    "len(findings)\n",
    "findings[:2]"
   ]
  },
  {
   "cell_type": "markdown",
   "id": "3da47226-c261-4c7f-a554-c06a55ce7f60",
   "metadata": {
    "tags": []
   },
   "source": [
    "## **Extract Chapter Titles**"
   ]
  },
  {
   "cell_type": "markdown",
   "id": "bbf3a356-421f-4c48-a347-e4c12db04801",
   "metadata": {
    "tags": []
   },
   "source": [
    "### Method 1"
   ]
  },
  {
   "cell_type": "code",
   "execution_count": 12,
   "id": "95a44789-3073-419d-91b3-44a07d13e1e7",
   "metadata": {},
   "outputs": [
    {
     "data": {
      "text/plain": [
       "['Before',\n",
       " 'Everything Precious',\n",
       " 'A Promise',\n",
       " 'Breathe Once More',\n",
       " 'Abandoned',\n",
       " 'Tomb',\n",
       " 'East',\n",
       " 'The Opposite of Death',\n",
       " 'I See a Man',\n",
       " 'After']"
      ]
     },
     "execution_count": 12,
     "metadata": {},
     "output_type": "execute_result"
    }
   ],
   "source": [
    "#pattern = re.compile(r\"Chapter [0-9]+\\s+[\\w]+\")\n",
    "pattern = re.compile(r\"[a-zA-Z ]+\\n\\n\\n\")\n",
    "findings = re.findall(pattern, book)\n",
    "findings = [i.strip(\"\\n\\n\\n\") for i in findings]\n",
    "len(findings)\n",
    "findings"
   ]
  },
  {
   "cell_type": "markdown",
   "id": "f0e28867-9e7c-48c0-a326-d73b5e1eb532",
   "metadata": {
    "tags": []
   },
   "source": [
    "### Method 2 - only data inside () is returned"
   ]
  },
  {
   "cell_type": "code",
   "execution_count": 13,
   "id": "b38a1bdc-a2a5-4d7e-b33f-dfc6897fd370",
   "metadata": {},
   "outputs": [
    {
     "data": {
      "text/plain": [
       "['Before',\n",
       " 'Everything Precious',\n",
       " 'A Promise',\n",
       " 'Breathe Once More',\n",
       " 'Abandoned',\n",
       " 'Tomb',\n",
       " 'East',\n",
       " 'The Opposite of Death',\n",
       " 'I See a Man',\n",
       " 'After']"
      ]
     },
     "execution_count": 13,
     "metadata": {},
     "output_type": "execute_result"
    }
   ],
   "source": [
    "pattern = re.compile(r\"([a-zA-Z ]+)\\n\\n\\n\")\n",
    "findings = re.findall(pattern, book)\n",
    "len(findings)\n",
    "findings"
   ]
  },
  {
   "cell_type": "markdown",
   "id": "a5874eb4-c2d4-4c1b-b196-e301cede8729",
   "metadata": {
    "tags": []
   },
   "source": [
    "## **Find the occurrence of any word**"
   ]
  },
  {
   "cell_type": "code",
   "execution_count": 14,
   "id": "7f489f00-e1cc-4e62-abaf-3162c7af93f9",
   "metadata": {},
   "outputs": [],
   "source": [
    "def find_word(search_word):\n",
    "    pattern = re.compile(r\"[^a-zA-Z]+\" + search_word + \"[^a-zA-Z]+\")\n",
    "    findings = re.findall(pattern, book.lower())\n",
    "    output = len(findings)\n",
    "    if output == 0:\n",
    "        output = f\"The book does not contain the word {search_word}\"\n",
    "    return output"
   ]
  },
  {
   "cell_type": "markdown",
   "id": "d7cc098e-78e6-4a79-afcc-3d4ed12a63c7",
   "metadata": {
    "tags": []
   },
   "source": [
    "## Call the function"
   ]
  },
  {
   "cell_type": "code",
   "execution_count": 15,
   "id": "a3a02f22-f85c-4120-a612-017d255b1e70",
   "metadata": {},
   "outputs": [
    {
     "data": {
      "text/plain": [
       "83"
      ]
     },
     "execution_count": 15,
     "metadata": {},
     "output_type": "execute_result"
    }
   ],
   "source": [
    "find_word(\"love\")"
   ]
  },
  {
   "cell_type": "code",
   "execution_count": 16,
   "id": "7d7f9c92-6b1e-4f1f-829a-a40863d5c3e6",
   "metadata": {},
   "outputs": [
    {
     "data": {
      "text/plain": [
       "4"
      ]
     },
     "execution_count": 16,
     "metadata": {},
     "output_type": "execute_result"
    }
   ],
   "source": [
    "find_word(\"cheese\")"
   ]
  },
  {
   "cell_type": "code",
   "execution_count": 17,
   "id": "15fbc6d3-3c82-47b7-908c-04e9074aea54",
   "metadata": {},
   "outputs": [
    {
     "data": {
      "text/plain": [
       "'The book does not contain the word hate'"
      ]
     },
     "execution_count": 17,
     "metadata": {},
     "output_type": "execute_result"
    }
   ],
   "source": [
    "find_word(\"hate\")"
   ]
  }
 ],
 "metadata": {
  "kernelspec": {
   "display_name": "Python 3 (ipykernel)",
   "language": "python",
   "name": "python3"
  },
  "language_info": {
   "codemirror_mode": {
    "name": "ipython",
    "version": 3
   },
   "file_extension": ".py",
   "mimetype": "text/x-python",
   "name": "python",
   "nbconvert_exporter": "python",
   "pygments_lexer": "ipython3",
   "version": "3.10.8"
  }
 },
 "nbformat": 4,
 "nbformat_minor": 5
}
